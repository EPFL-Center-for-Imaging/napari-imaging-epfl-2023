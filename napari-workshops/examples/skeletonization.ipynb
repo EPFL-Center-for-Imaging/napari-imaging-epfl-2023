{
 "cells": [
  {
   "attachments": {},
   "cell_type": "markdown",
   "metadata": {},
   "source": [
    "<p align=\"center\">\n",
    "    <img src=\"https://gitlab.epfl.ch/center-for-imaging/eias-2023-visualization-workshop/-/raw/main/images/drosofig.png\" height=\"350\" alt=\"skeletonization image\">\n",
    "</p>\n",
    "\n",
    "# Skeleton analysis of a drosophila trachea\n",
    "---\n",
    "\n",
    "In this notebook, we will study the elongated branching structure of a drosophila trachea in a 3D confocal image. We will introduce vesselness filters, skeletonization and show how the connected filaments structure can be represented as a graph of nodes and vertices using the [Skan](https://skeleton-analysis.org/stable/) package in Python.\n",
    "\n",
    "### Acknowledgements\n",
    "\n",
    "We kindly acknowledge [Lemaitre lab](https://www.epfl.ch/labs/lemaitrelab/) in EPFL for providing the data for this notebook!"
   ]
  },
  {
   "attachments": {},
   "cell_type": "markdown",
   "metadata": {},
   "source": [
    "### Setup\n",
    "\n",
    "Check that you have all the necessary packages installed, including `napari` and `Skan`. If not, you can use the `!` symbol to install them directly from the Jupyter notebook (otherwise, you can use your terminal)."
   ]
  },
  {
   "cell_type": "code",
   "execution_count": 1,
   "metadata": {},
   "outputs": [
    {
     "name": "stdout",
     "output_type": "stream",
     "text": [
      "Requirement already satisfied: skan in /home/wittwer/miniconda3/envs/eias/lib/python3.9/site-packages (0.11.1)\n",
      "Requirement already satisfied: imageio>=2.10.1 in /home/wittwer/miniconda3/envs/eias/lib/python3.9/site-packages (from skan) (2.31.1)\n",
      "Requirement already satisfied: matplotlib>=3.4 in /home/wittwer/miniconda3/envs/eias/lib/python3.9/site-packages (from skan) (3.7.1)\n",
      "Requirement already satisfied: networkx>=2.7 in /home/wittwer/miniconda3/envs/eias/lib/python3.9/site-packages (from skan) (3.1)\n",
      "Requirement already satisfied: numba>=0.53 in /home/wittwer/miniconda3/envs/eias/lib/python3.9/site-packages (from skan) (0.57.1)\n",
      "Requirement already satisfied: numpy>=1.21 in /home/wittwer/miniconda3/envs/eias/lib/python3.9/site-packages (from skan) (1.23.5)\n",
      "Requirement already satisfied: pandas>=2.0.2 in /home/wittwer/miniconda3/envs/eias/lib/python3.9/site-packages (from skan) (2.0.3)\n",
      "Requirement already satisfied: openpyxl>=2.6 in /home/wittwer/miniconda3/envs/eias/lib/python3.9/site-packages (from skan) (3.1.2)\n",
      "Requirement already satisfied: scikit-image>=0.17.1 in /home/wittwer/miniconda3/envs/eias/lib/python3.9/site-packages (from skan) (0.21.0)\n",
      "Requirement already satisfied: scipy>=1.7 in /home/wittwer/miniconda3/envs/eias/lib/python3.9/site-packages (from skan) (1.11.1)\n",
      "Requirement already satisfied: toolz>=0.10.0 in /home/wittwer/.local/lib/python3.9/site-packages (from skan) (0.11.2)\n",
      "Requirement already satisfied: tqdm>=4.57.0 in /home/wittwer/miniconda3/envs/eias/lib/python3.9/site-packages (from skan) (4.65.0)\n",
      "Requirement already satisfied: pillow>=8.3.2 in /home/wittwer/miniconda3/envs/eias/lib/python3.9/site-packages (from imageio>=2.10.1->skan) (10.0.0)\n",
      "Requirement already satisfied: contourpy>=1.0.1 in /home/wittwer/miniconda3/envs/eias/lib/python3.9/site-packages (from matplotlib>=3.4->skan) (1.1.0)\n",
      "Requirement already satisfied: cycler>=0.10 in /home/wittwer/miniconda3/envs/eias/lib/python3.9/site-packages (from matplotlib>=3.4->skan) (0.11.0)\n",
      "Requirement already satisfied: fonttools>=4.22.0 in /home/wittwer/miniconda3/envs/eias/lib/python3.9/site-packages (from matplotlib>=3.4->skan) (4.40.0)\n",
      "Requirement already satisfied: kiwisolver>=1.0.1 in /home/wittwer/.local/lib/python3.9/site-packages (from matplotlib>=3.4->skan) (1.4.2)\n",
      "Requirement already satisfied: packaging>=20.0 in /home/wittwer/.local/lib/python3.9/site-packages (from matplotlib>=3.4->skan) (21.3)\n",
      "Requirement already satisfied: pyparsing>=2.3.1 in /home/wittwer/.local/lib/python3.9/site-packages (from matplotlib>=3.4->skan) (3.0.9)\n",
      "Requirement already satisfied: python-dateutil>=2.7 in /home/wittwer/.local/lib/python3.9/site-packages (from matplotlib>=3.4->skan) (2.8.2)\n",
      "Requirement already satisfied: importlib-resources>=3.2.0 in /home/wittwer/miniconda3/envs/eias/lib/python3.9/site-packages (from matplotlib>=3.4->skan) (5.12.0)\n",
      "Requirement already satisfied: llvmlite<0.41,>=0.40.0dev0 in /home/wittwer/miniconda3/envs/eias/lib/python3.9/site-packages (from numba>=0.53->skan) (0.40.1)\n",
      "Requirement already satisfied: et-xmlfile in /home/wittwer/miniconda3/envs/eias/lib/python3.9/site-packages (from openpyxl>=2.6->skan) (1.1.0)\n",
      "Requirement already satisfied: pytz>=2020.1 in /home/wittwer/.local/lib/python3.9/site-packages (from pandas>=2.0.2->skan) (2022.1)\n",
      "Requirement already satisfied: tzdata>=2022.1 in /home/wittwer/miniconda3/envs/eias/lib/python3.9/site-packages (from pandas>=2.0.2->skan) (2023.3)\n",
      "Requirement already satisfied: tifffile>=2022.8.12 in /home/wittwer/miniconda3/envs/eias/lib/python3.9/site-packages (from scikit-image>=0.17.1->skan) (2023.4.12)\n",
      "Requirement already satisfied: PyWavelets>=1.1.1 in /home/wittwer/.local/lib/python3.9/site-packages (from scikit-image>=0.17.1->skan) (1.3.0)\n",
      "Requirement already satisfied: lazy_loader>=0.2 in /home/wittwer/miniconda3/envs/eias/lib/python3.9/site-packages (from scikit-image>=0.17.1->skan) (0.3)\n",
      "Requirement already satisfied: zipp>=3.1.0 in /home/wittwer/miniconda3/envs/eias/lib/python3.9/site-packages (from importlib-resources>=3.2.0->matplotlib>=3.4->skan) (3.15.0)\n",
      "Requirement already satisfied: six>=1.5 in /home/wittwer/.local/lib/python3.9/site-packages (from python-dateutil>=2.7->matplotlib>=3.4->skan) (1.16.0)\n"
     ]
    }
   ],
   "source": [
    "!pip install skan"
   ]
  },
  {
   "cell_type": "code",
   "execution_count": 2,
   "metadata": {},
   "outputs": [],
   "source": [
    "import napari\n",
    "from skan import Skeleton, summarize"
   ]
  },
  {
   "attachments": {},
   "cell_type": "markdown",
   "metadata": {},
   "source": [
    "### Get the data\n",
    "\n",
    "The image we'll use in this tutorial is available for download on [Zenodo](https://zenodo.org/record/8099852) (`drosophila_trachea.tif`).\n",
    "\n",
    "In the cell below, we use a Python package called [pooch](https://pypi.org/project/pooch/) to automatically download the image from Zenodo into the **data** folder of this repository."
   ]
  },
  {
   "cell_type": "code",
   "execution_count": 3,
   "metadata": {},
   "outputs": [
    {
     "name": "stdout",
     "output_type": "stream",
     "text": [
      "Downloaded image drosophila_trachea.tif into: /home/wittwer/code/eias-2023-visualization-workshop/data\n"
     ]
    }
   ],
   "source": [
    "import pooch\n",
    "from pathlib import Path\n",
    "\n",
    "data_path = Path('.').resolve().parent / 'data'\n",
    "fname = 'drosophila_trachea.tif'\n",
    "\n",
    "pooch.retrieve(\n",
    "    url=\"https://zenodo.org/record/8099852/files/drosophila_trachea.tif\",\n",
    "    known_hash=\"md5:d595ac271779936e255afd0508cca43f\",\n",
    "    path=data_path,\n",
    "    fname=fname,\n",
    "    progressbar=True,\n",
    ")\n",
    "\n",
    "print(f'Downloaded image {fname} into: {data_path}')"
   ]
  },
  {
   "attachments": {},
   "cell_type": "markdown",
   "metadata": {},
   "source": [
    "### Read the image\n",
    "\n",
    "We use the `imread` function from Scikit-image to read our TIF image."
   ]
  },
  {
   "cell_type": "code",
   "execution_count": 4,
   "metadata": {},
   "outputs": [
    {
     "name": "stdout",
     "output_type": "stream",
     "text": [
      "Loaded image in an array of shape: (30, 250, 250) and data type uint8\n",
      "Intensity range: [0 - 255]\n"
     ]
    }
   ],
   "source": [
    "from skimage.io import imread\n",
    "\n",
    "image = imread(data_path / 'drosophila_trachea.tif')\n",
    "\n",
    "print(f'Loaded image in an array of shape: {image.shape} and data type {image.dtype}')\n",
    "print(f'Intensity range: [{image.min()} - {image.max()}]')"
   ]
  },
  {
   "cell_type": "markdown",
   "metadata": {},
   "source": [
    "If you run into troubles, don't hesitate to ask for help 🤚🏽."
   ]
  },
  {
   "attachments": {},
   "cell_type": "markdown",
   "metadata": {},
   "source": [
    "### Load the image into Napari\n",
    "\n",
    "Let's open a viewer and load our image to have a look at it."
   ]
  },
  {
   "cell_type": "code",
   "execution_count": 5,
   "metadata": {},
   "outputs": [
    {
     "name": "stderr",
     "output_type": "stream",
     "text": [
      "../src/intel/isl/isl.c:2220: FINISHME: ../src/intel/isl/isl.c:isl_surf_supports_ccs: CCS for 3D textures is disabled, but a workaround is available.\n"
     ]
    },
    {
     "data": {
      "text/plain": [
       "<Image layer 'Original image' at 0x7fe10fdcd910>"
      ]
     },
     "execution_count": 5,
     "metadata": {},
     "output_type": "execute_result"
    }
   ],
   "source": [
    "viewer = napari.Viewer(ndisplay=3)\n",
    "viewer.add_image(image, name=\"Original image\")"
   ]
  },
  {
   "attachments": {},
   "cell_type": "markdown",
   "metadata": {},
   "source": [
    "### Intensity normalization\n",
    "\n",
    "Let's rescale our image to the range 0-1. By doing so, it is also converted to an array of data type `float`."
   ]
  },
  {
   "cell_type": "code",
   "execution_count": 6,
   "metadata": {},
   "outputs": [
    {
     "name": "stdout",
     "output_type": "stream",
     "text": [
      "Intensity range: [0.0 - 1.0]\n",
      "Array type: float64\n"
     ]
    }
   ],
   "source": [
    "from skimage.exposure import rescale_intensity\n",
    "\n",
    "image_normed = rescale_intensity(image, out_range=(0, 1))\n",
    "\n",
    "print(f'Intensity range: [{image_normed.min()} - {image_normed.max()}]')\n",
    "print(f'Array type: {image_normed.dtype}')"
   ]
  },
  {
   "attachments": {},
   "cell_type": "markdown",
   "metadata": {},
   "source": [
    "### Vesselness filtering\n",
    "\n",
    "[Vesselness filters](https://scikit-image.org/docs/stable/auto_examples/edges/plot_ridge_filter.html#sphx-glr-auto-examples-edges-plot-ridge-filter-py) are designed to highlight elongated structures. Here, we apply the *meijering* filter from Scikit-image to our normalized image."
   ]
  },
  {
   "cell_type": "code",
   "execution_count": 7,
   "metadata": {},
   "outputs": [],
   "source": [
    "from skimage.filters import meijering\n",
    "\n",
    "image_mei = meijering(image_normed, sigmas=range(1, 3, 1), black_ridges=False)\n",
    "\n",
    "# Have a look at what the filtered image looks like in Napari:\n",
    "viewer.add_image(image_mei, name=\"Vesselness filter\", contrast_limits=(0, 1));"
   ]
  },
  {
   "attachments": {},
   "cell_type": "markdown",
   "metadata": {},
   "source": [
    "### Thresholding\n",
    "\n",
    "Next, we apply [Otsu's method](https://scikit-image.org/docs/dev/auto_examples/segmentation/plot_thresholding.html) to binarize the image."
   ]
  },
  {
   "cell_type": "code",
   "execution_count": 8,
   "metadata": {},
   "outputs": [],
   "source": [
    "from skimage.filters import threshold_otsu\n",
    "import numpy as np\n",
    "\n",
    "labels_binary = (image_mei >= threshold_otsu(image_mei)).astype(np.uint8)\n",
    "\n",
    "# Have a look at the result\n",
    "viewer.add_labels(labels_binary, name=\"Otsu threshold\");"
   ]
  },
  {
   "attachments": {},
   "cell_type": "markdown",
   "metadata": {},
   "source": [
    "### Skeletonization\n",
    "\n",
    "Finally, we use Scikit-image to [skeletonize](https://scikit-image.org/docs/stable/auto_examples/edges/plot_skeleton.html) the image to extract a binary trace at the center of the filaments."
   ]
  },
  {
   "cell_type": "code",
   "execution_count": 9,
   "metadata": {},
   "outputs": [
    {
     "data": {
      "text/plain": [
       "<Image layer 'Skeleton' at 0x7fe106ee6a30>"
      ]
     },
     "execution_count": 9,
     "metadata": {},
     "output_type": "execute_result"
    }
   ],
   "source": [
    "from skimage.morphology import skeletonize_3d\n",
    "\n",
    "img_skeleton = skeletonize_3d(labels_binary)\n",
    "\n",
    "viewer.add_image(\n",
    "    img_skeleton, \n",
    "    name=\"Skeleton\", \n",
    "    contrast_limits=(0, 1), \n",
    "    colormap='green', \n",
    "    blending='additive'\n",
    ")"
   ]
  },
  {
   "attachments": {},
   "cell_type": "markdown",
   "metadata": {},
   "source": [
    "### Analysis of the skeleton\n",
    "\n",
    "Using [skan.Skeleton](https://skeleton-analysis.org/stable/), we extract a **graph representation of the skeleton** in the form of a [Pandas DataFrame](https://pandas.pydata.org/)."
   ]
  },
  {
   "cell_type": "code",
   "execution_count": 10,
   "metadata": {},
   "outputs": [
    {
     "data": {
      "text/html": [
       "<div>\n",
       "<style scoped>\n",
       "    .dataframe tbody tr th:only-of-type {\n",
       "        vertical-align: middle;\n",
       "    }\n",
       "\n",
       "    .dataframe tbody tr th {\n",
       "        vertical-align: top;\n",
       "    }\n",
       "\n",
       "    .dataframe thead th {\n",
       "        text-align: right;\n",
       "    }\n",
       "</style>\n",
       "<table border=\"1\" class=\"dataframe\">\n",
       "  <thead>\n",
       "    <tr style=\"text-align: right;\">\n",
       "      <th></th>\n",
       "      <th>skeleton-id</th>\n",
       "      <th>node-id-src</th>\n",
       "      <th>node-id-dst</th>\n",
       "      <th>branch-distance</th>\n",
       "      <th>branch-type</th>\n",
       "      <th>mean-pixel-value</th>\n",
       "      <th>stdev-pixel-value</th>\n",
       "      <th>image-coord-src-0</th>\n",
       "      <th>image-coord-src-1</th>\n",
       "      <th>image-coord-src-2</th>\n",
       "      <th>image-coord-dst-0</th>\n",
       "      <th>image-coord-dst-1</th>\n",
       "      <th>image-coord-dst-2</th>\n",
       "      <th>coord-src-0</th>\n",
       "      <th>coord-src-1</th>\n",
       "      <th>coord-src-2</th>\n",
       "      <th>coord-dst-0</th>\n",
       "      <th>coord-dst-1</th>\n",
       "      <th>coord-dst-2</th>\n",
       "      <th>euclidean-distance</th>\n",
       "    </tr>\n",
       "  </thead>\n",
       "  <tbody>\n",
       "    <tr>\n",
       "      <th>7</th>\n",
       "      <td>10</td>\n",
       "      <td>15</td>\n",
       "      <td>1161</td>\n",
       "      <td>5.878315</td>\n",
       "      <td>1</td>\n",
       "      <td>1.0</td>\n",
       "      <td>0.0</td>\n",
       "      <td>0</td>\n",
       "      <td>12</td>\n",
       "      <td>188</td>\n",
       "      <td>3</td>\n",
       "      <td>10</td>\n",
       "      <td>192</td>\n",
       "      <td>0</td>\n",
       "      <td>12</td>\n",
       "      <td>188</td>\n",
       "      <td>3</td>\n",
       "      <td>10</td>\n",
       "      <td>192</td>\n",
       "      <td>5.385165</td>\n",
       "    </tr>\n",
       "    <tr>\n",
       "      <th>13</th>\n",
       "      <td>22</td>\n",
       "      <td>43</td>\n",
       "      <td>1509</td>\n",
       "      <td>4.414214</td>\n",
       "      <td>1</td>\n",
       "      <td>1.0</td>\n",
       "      <td>0.0</td>\n",
       "      <td>0</td>\n",
       "      <td>30</td>\n",
       "      <td>125</td>\n",
       "      <td>4</td>\n",
       "      <td>30</td>\n",
       "      <td>126</td>\n",
       "      <td>0</td>\n",
       "      <td>30</td>\n",
       "      <td>125</td>\n",
       "      <td>4</td>\n",
       "      <td>30</td>\n",
       "      <td>126</td>\n",
       "      <td>4.123106</td>\n",
       "    </tr>\n",
       "    <tr>\n",
       "      <th>17</th>\n",
       "      <td>30</td>\n",
       "      <td>66</td>\n",
       "      <td>370</td>\n",
       "      <td>9.560478</td>\n",
       "      <td>1</td>\n",
       "      <td>1.0</td>\n",
       "      <td>0.0</td>\n",
       "      <td>0</td>\n",
       "      <td>38</td>\n",
       "      <td>146</td>\n",
       "      <td>1</td>\n",
       "      <td>39</td>\n",
       "      <td>138</td>\n",
       "      <td>0</td>\n",
       "      <td>38</td>\n",
       "      <td>146</td>\n",
       "      <td>1</td>\n",
       "      <td>39</td>\n",
       "      <td>138</td>\n",
       "      <td>8.124038</td>\n",
       "    </tr>\n",
       "    <tr>\n",
       "      <th>18</th>\n",
       "      <td>30</td>\n",
       "      <td>68</td>\n",
       "      <td>370</td>\n",
       "      <td>5.414214</td>\n",
       "      <td>1</td>\n",
       "      <td>1.0</td>\n",
       "      <td>0.0</td>\n",
       "      <td>0</td>\n",
       "      <td>39</td>\n",
       "      <td>133</td>\n",
       "      <td>1</td>\n",
       "      <td>39</td>\n",
       "      <td>138</td>\n",
       "      <td>0</td>\n",
       "      <td>39</td>\n",
       "      <td>133</td>\n",
       "      <td>1</td>\n",
       "      <td>39</td>\n",
       "      <td>138</td>\n",
       "      <td>5.099020</td>\n",
       "    </tr>\n",
       "    <tr>\n",
       "      <th>22</th>\n",
       "      <td>27</td>\n",
       "      <td>80</td>\n",
       "      <td>1542</td>\n",
       "      <td>4.414214</td>\n",
       "      <td>1</td>\n",
       "      <td>1.0</td>\n",
       "      <td>0.0</td>\n",
       "      <td>0</td>\n",
       "      <td>49</td>\n",
       "      <td>130</td>\n",
       "      <td>4</td>\n",
       "      <td>48</td>\n",
       "      <td>130</td>\n",
       "      <td>0</td>\n",
       "      <td>49</td>\n",
       "      <td>130</td>\n",
       "      <td>4</td>\n",
       "      <td>48</td>\n",
       "      <td>130</td>\n",
       "      <td>4.123106</td>\n",
       "    </tr>\n",
       "  </tbody>\n",
       "</table>\n",
       "</div>"
      ],
      "text/plain": [
       "    skeleton-id  node-id-src  node-id-dst  branch-distance  branch-type  \\\n",
       "7            10           15         1161         5.878315            1   \n",
       "13           22           43         1509         4.414214            1   \n",
       "17           30           66          370         9.560478            1   \n",
       "18           30           68          370         5.414214            1   \n",
       "22           27           80         1542         4.414214            1   \n",
       "\n",
       "    mean-pixel-value  stdev-pixel-value  image-coord-src-0  image-coord-src-1  \\\n",
       "7                1.0                0.0                  0                 12   \n",
       "13               1.0                0.0                  0                 30   \n",
       "17               1.0                0.0                  0                 38   \n",
       "18               1.0                0.0                  0                 39   \n",
       "22               1.0                0.0                  0                 49   \n",
       "\n",
       "    image-coord-src-2  image-coord-dst-0  image-coord-dst-1  \\\n",
       "7                 188                  3                 10   \n",
       "13                125                  4                 30   \n",
       "17                146                  1                 39   \n",
       "18                133                  1                 39   \n",
       "22                130                  4                 48   \n",
       "\n",
       "    image-coord-dst-2  coord-src-0  coord-src-1  coord-src-2  coord-dst-0  \\\n",
       "7                 192            0           12          188            3   \n",
       "13                126            0           30          125            4   \n",
       "17                138            0           38          146            1   \n",
       "18                138            0           39          133            1   \n",
       "22                130            0           49          130            4   \n",
       "\n",
       "    coord-dst-1  coord-dst-2  euclidean-distance  \n",
       "7            10          192            5.385165  \n",
       "13           30          126            4.123106  \n",
       "17           39          138            8.124038  \n",
       "18           39          138            5.099020  \n",
       "22           48          130            4.123106  "
      ]
     },
     "execution_count": 10,
     "metadata": {},
     "output_type": "execute_result"
    }
   ],
   "source": [
    "table = summarize(Skeleton(skeleton_image=img_skeleton))\n",
    "\n",
    "# Let's remove isolated branches (indexed as branch-type zero) from the table.\n",
    "table.drop(table[table['branch-type'] == 0].index, axis=0, inplace=True)\n",
    "\n",
    "table.head()"
   ]
  },
  {
   "attachments": {},
   "cell_type": "markdown",
   "metadata": {},
   "source": [
    "### Visualization in Napari\n",
    "\n",
    "There is a little bit of extra work involved to prepare a `vectors` array of shape (N, 2, 3) - the format expected by Napari - where each row encodes the origin and end points of a 3D vector."
   ]
  },
  {
   "cell_type": "code",
   "execution_count": 11,
   "metadata": {},
   "outputs": [
    {
     "data": {
      "text/plain": [
       "(830, 2, 3)"
      ]
     },
     "execution_count": 11,
     "metadata": {},
     "output_type": "execute_result"
    }
   ],
   "source": [
    "import pandas as pd\n",
    "\n",
    "# Prepare the vectors for Napari\n",
    "points_src = table[['image-coord-src-0', 'image-coord-src-1', 'image-coord-src-2']].values\n",
    "points_dst = table[['image-coord-dst-0', 'image-coord-dst-1', 'image-coord-dst-2']].values\n",
    "\n",
    "directions = points_dst - points_src\n",
    "\n",
    "vectors = np.concatenate((points_src[np.newaxis], directions[np.newaxis]), axis=0)\n",
    "vectors = np.swapaxes(vectors, 0, 1)\n",
    "\n",
    "vectors.shape"
   ]
  },
  {
   "attachments": {},
   "cell_type": "markdown",
   "metadata": {},
   "source": [
    "We can finally display our `vectors` in the viewer!"
   ]
  },
  {
   "cell_type": "code",
   "execution_count": 12,
   "metadata": {},
   "outputs": [
    {
     "data": {
      "text/plain": [
       "<Vectors layer 'Branches' at 0x7fe07409ef10>"
      ]
     },
     "execution_count": 12,
     "metadata": {},
     "output_type": "execute_result"
    },
    {
     "data": {
      "application/vnd.jupyter.widget-view+json": {
       "model_id": "9f481d26bf68442a8f24e76a47533471",
       "version_major": 2,
       "version_minor": 0
      },
      "text/plain": [
       "  0%|          | 0/30 [00:00<?, ?it/s]"
      ]
     },
     "metadata": {},
     "output_type": "display_data"
    },
    {
     "data": {
      "application/vnd.jupyter.widget-view+json": {
       "model_id": "80732e2b96dc44788fc1d8488bfc9d80",
       "version_major": 2,
       "version_minor": 0
      },
      "text/plain": [
       "  0%|          | 0/30 [00:00<?, ?it/s]"
      ]
     },
     "metadata": {},
     "output_type": "display_data"
    },
    {
     "data": {
      "application/vnd.jupyter.widget-view+json": {
       "model_id": "83473b3c34b14170b3a48941a8ef2d20",
       "version_major": 2,
       "version_minor": 0
      },
      "text/plain": [
       "  0%|          | 0/30 [00:00<?, ?it/s]"
      ]
     },
     "metadata": {},
     "output_type": "display_data"
    },
    {
     "data": {
      "application/vnd.jupyter.widget-view+json": {
       "model_id": "14636c0e436f46d984d3d599efcbbf62",
       "version_major": 2,
       "version_minor": 0
      },
      "text/plain": [
       "  0%|          | 0/30 [00:00<?, ?it/s]"
      ]
     },
     "metadata": {},
     "output_type": "display_data"
    },
    {
     "data": {
      "application/vnd.jupyter.widget-view+json": {
       "model_id": "2d8cc10333e748a2b92ab26b33e77cbe",
       "version_major": 2,
       "version_minor": 0
      },
      "text/plain": [
       "  0%|          | 0/30 [00:00<?, ?it/s]"
      ]
     },
     "metadata": {},
     "output_type": "display_data"
    }
   ],
   "source": [
    "# Add a `Vectors` layer\n",
    "viewer.add_vectors(vectors, name=\"Branches\", edge_width=0.6, \n",
    "    features=pd.DataFrame({'branch-type': table['branch-type'].values.astype(float)}),\n",
    "    edge_color='branch-type',\n",
    ")"
   ]
  },
  {
   "cell_type": "markdown",
   "metadata": {},
   "source": [
    "<p align=\"center\">\n",
    "    <a href=\"https://gitlab.epfl.ch/center-for-imaging/eias-2023-visualization-workshop/-/blob/main/examples/README.md\">🔙 Back to case studies</a>\n",
    "</p>\n"
   ]
  },
  {
   "cell_type": "code",
   "execution_count": null,
   "metadata": {},
   "outputs": [],
   "source": []
  }
 ],
 "metadata": {
  "kernelspec": {
   "display_name": "Python 3 (ipykernel)",
   "language": "python",
   "name": "python3"
  },
  "language_info": {
   "codemirror_mode": {
    "name": "ipython",
    "version": 3
   },
   "file_extension": ".py",
   "mimetype": "text/x-python",
   "name": "python",
   "nbconvert_exporter": "python",
   "pygments_lexer": "ipython3",
   "version": "3.9.16"
  }
 },
 "nbformat": 4,
 "nbformat_minor": 4
}
