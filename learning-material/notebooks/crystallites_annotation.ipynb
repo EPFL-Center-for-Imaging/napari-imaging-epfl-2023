{
 "cells": [
  {
   "attachments": {},
   "cell_type": "markdown",
   "metadata": {},
   "source": [
    "![triangles](../images/triangles_fig.png)\n",
    "\n",
    "# Manual annotation of triangular crystallites\n",
    "---\n",
    "\n",
    "```{note}\n",
    "This is an advanced example!\n",
    "```\n",
    "\n",
    "In this notebook, we will explore some of the interactive capabilities of Napari. We will use the `napari-matplotlib` plugin to integrate a histogram plot into the viewer and update it as the user draws polygons in a `Shapes` layer. The histogram represents the tilt angle of the crystallites (triangles) with respect to the horizontal axis of the image.\n",
    "\n",
    "```{admonition} Acknowledgements\n",
    "We kindly acknowledge the [Laboratory of Advanced Separations](https://www.epfl.ch/labs/las/) in EPFL for providing the data for this notebook!\n",
    "```"
   ]
  },
  {
   "attachments": {},
   "cell_type": "markdown",
   "metadata": {},
   "source": [
    "### Setup\n",
    "\n",
    "Check that you have all the necessary packages installed, including `napari`, the `napari-matplotlib` plugin, and `seaborn`. If not, you can use the `!` symbol to install them directly from the Jupyter notebook (otherwise, you can use your terminal)."
   ]
  },
  {
   "cell_type": "code",
   "execution_count": null,
   "metadata": {},
   "outputs": [],
   "source": [
    "import napari"
   ]
  },
  {
   "attachments": {},
   "cell_type": "markdown",
   "metadata": {},
   "source": [
    "### Get the data\n",
    "\n",
    "The image we'll use in this tutorial is available for download on [Zenodo](https://zenodo.org/record/8099852) (`crystallites.tif`).\n",
    "\n",
    "In the cell below, we use a Python package called [pooch](https://pypi.org/project/pooch/) to automatically download the image from Zenodo into the **data** folder of this repository."
   ]
  },
  {
   "cell_type": "code",
   "execution_count": null,
   "metadata": {},
   "outputs": [],
   "source": [
    "import pooch\n",
    "from pathlib import Path\n",
    "\n",
    "data_path = Path('.').resolve().parent / 'data'\n",
    "fname = 'crystallites.tif'\n",
    "\n",
    "pooch.retrieve(\n",
    "    url=\"https://zenodo.org/record/8099852/files/crystallites.tif\",\n",
    "    known_hash=\"md5:18d619a8f70114f2e5437e4713e45166\",\n",
    "    path=data_path,\n",
    "    fname=fname,\n",
    "    progressbar=True,\n",
    ")\n",
    "\n",
    "print(f'Downloaded image {fname} into: {data_path}')"
   ]
  },
  {
   "attachments": {},
   "cell_type": "markdown",
   "metadata": {},
   "source": [
    "### Read the image\n",
    "\n",
    "We use the `imread` function from Scikit-image to read our TIF image."
   ]
  },
  {
   "cell_type": "code",
   "execution_count": null,
   "metadata": {},
   "outputs": [],
   "source": [
    "from skimage.io import imread\n",
    "\n",
    "image = imread(data_path / 'crystallites.tif')\n",
    "\n",
    "print(f'Loaded image in an array of shape: {image.shape} and data type {image.dtype}')\n",
    "print(f'Intensity range: [{image.min()} - {image.max()}]')"
   ]
  },
  {
   "cell_type": "markdown",
   "metadata": {},
   "source": [
    "### Load the image into Napari\n",
    "\n",
    "Let's open a viewer and load our image to have a look at it."
   ]
  },
  {
   "cell_type": "code",
   "execution_count": null,
   "metadata": {},
   "outputs": [],
   "source": [
    "viewer = napari.Viewer()\n",
    "viewer.add_image(image)"
   ]
  },
  {
   "attachments": {},
   "cell_type": "markdown",
   "metadata": {},
   "source": [
    "### Set up custom UI interactions\n",
    "\n",
    "First, we create a class `AngleHistogramWidget` that inherits from the base class `NapariMPLWidget` from the `napari-matplotlib` plugin to define the kind of plot to draw. The code can be templated and reused to display any kind of plot compatible with `matplotlib`.\n",
    "\n",
    "Here, for example, we display a [Seaborn histplot](https://seaborn.pydata.org/generated/seaborn.histplot.html) in the interface."
   ]
  },
  {
   "cell_type": "code",
   "execution_count": null,
   "metadata": {},
   "outputs": [],
   "source": [
    "from qtpy.QtCore import Qt\n",
    "from qtpy.QtWidgets import QWidget, QSizePolicy, QVBoxLayout\n",
    "from matplotlib.backends.backend_qt5agg import FigureCanvas\n",
    "import numpy as np\n",
    "import seaborn as sns\n",
    "\n",
    "class AngleHistogramWidget(QWidget):\n",
    "    \"\"\"\n",
    "    Displays a histogram of the 'angle' property of the currently selected Napari `Shapes` layer.\n",
    "    \"\"\"\n",
    "    def __init__(self, napari_viewer):\n",
    "        super().__init__()\n",
    "        self.viewer = napari_viewer\n",
    "\n",
    "        grid_layout = QVBoxLayout()\n",
    "        grid_layout.setAlignment(Qt.AlignTop)\n",
    "        self.setLayout(grid_layout)\n",
    "\n",
    "        self.canvas = FigureCanvas()\n",
    "\n",
    "        self.canvas.figure.set_tight_layout(True)\n",
    "        self.canvas.figure.set_size_inches(6.0, 6.0)\n",
    "        self.canvas.figure.patch.set_facecolor(\"#cddced\")\n",
    "\n",
    "        self.axes = self.canvas.figure.subplots()\n",
    "        self.axes.set_xlabel('Tilt angle (deg.)')\n",
    "        self.axes.set_ylabel('Count')\n",
    "\n",
    "        self.canvas.setSizePolicy(QSizePolicy.Minimum, QSizePolicy.Minimum)\n",
    "        self.canvas.setMinimumSize(200, 200)\n",
    "        grid_layout.addWidget(self.canvas)\n",
    "\n",
    "    def _plot_histogram(self, layer):\n",
    "        if not 'angle' in list(layer.properties.keys()):\n",
    "            return\n",
    "        \n",
    "        self.axes.clear()\n",
    "        self.axes.set_xlabel('Tilt angle (deg.)')\n",
    "        self.axes.set_ylabel('Count')\n",
    "\n",
    "        # The seaborn histplot looks for data in the 'angle' property of the layer.\n",
    "        sns.histplot(layer.properties['angle'], bins=np.linspace(-70, 70, 50), ax=self.axes)\n",
    "\n",
    "        self.canvas.draw()\n",
    "\n",
    "# Create and dock the Histogram widget element\n",
    "histo_widget = AngleHistogramWidget(viewer)\n",
    "viewer.window.add_dock_widget(histo_widget, name='Orientation distribution');"
   ]
  },
  {
   "attachments": {},
   "cell_type": "markdown",
   "metadata": {},
   "source": [
    "Next, we define a callback function `on_set_data` that we connect to the event `set_data` of the Napari `Shapes` layer used for annotating the crystallites. In this way, we can update the text to display in the layer dynamically as the user draws new polygons. Similarly, we connect the `mouse_double_click` callback of the layer to the method `_draw` of the `AngleHistogramWidget` so that the histogram gets updated when the user finishes drawing a polygon.\n",
    "\n",
    "If you're interested in setting up custom interactions for your own project, you can check the [Events reference](https://napari.org/stable/guides/events_reference.html) and [this tutorial](https://napari.org/dev/howtos/connecting_events.html)."
   ]
  },
  {
   "cell_type": "code",
   "execution_count": null,
   "metadata": {},
   "outputs": [],
   "source": [
    "import pandas as pd\n",
    "from napari.utils.events import Event\n",
    "\n",
    "def on_set_data(event: Event):\n",
    "    \"\"\"Called when the data in the `Shapes` annotation layer changes.\"\"\"\n",
    "    shapes_layer = event.source\n",
    "    shapes_data = shapes_layer.data\n",
    "\n",
    "    if len(shapes_data) == 0:\n",
    "        return\n",
    "\n",
    "    angles = []\n",
    "    for polygon in shapes_data:\n",
    "        triangle = pd.DataFrame.from_dict({'y': polygon[:, 0], 'x': polygon[:, 1]})\n",
    "        if len(triangle) < 3:\n",
    "            tilt_angle_degrees = 0.0\n",
    "        else:\n",
    "            # Sort the corners by Y coordinate\n",
    "            triangle.sort_values(by='y', inplace=True)\n",
    "            \n",
    "            # Select the two corner points opposite to the lowest corner, sort them by X coordinate\n",
    "            points_opposite = triangle.iloc[1:].sort_values(by='x')\n",
    "\n",
    "            # Compute the deltas (dX, dY)\n",
    "            deltas = points_opposite[['x', 'y']].diff().iloc[1]\n",
    "\n",
    "            # Avoid dividing by zero if dX is zero\n",
    "            if deltas['x'] == 0:\n",
    "                tilt_angle_degrees = 0.0\n",
    "            else:\n",
    "                tilt_angle_radians = np.arctan(deltas['y'] / deltas['x'])\n",
    "                tilt_angle_degrees = np.degrees(tilt_angle_radians)\n",
    "                \n",
    "        angles.append(tilt_angle_degrees)\n",
    "\n",
    "    shapes_layer.properties = {'angle': angles}\n",
    "    shapes_layer.text={\n",
    "        'string': '{angle:.2f} deg.',\n",
    "        'size': 16,\n",
    "        'color': 'black',\n",
    "    }\n",
    "    shapes_layer.face_color='angle'\n",
    "\n",
    "\n",
    "# Add a `Shapes` layer in which to draw the polygons\n",
    "shapes_layer = viewer.add_shapes(data=None, name='Annotations', shape_type='polygon')\n",
    "\n",
    "# Call `on_set_data` when the user sets data into the `Shapes` layer\n",
    "shapes_layer.events.set_data.connect(on_set_data)\n",
    "\n",
    "# Update the histogram on double-click (to finish drawing a polygon)\n",
    "shapes_layer.mouse_double_click_callbacks.append(lambda layer, event: histo_widget._plot_histogram(layer))"
   ]
  },
  {
   "attachments": {},
   "cell_type": "markdown",
   "metadata": {},
   "source": [
    "### Usage\n",
    "\n",
    "- Select the `Annotations` layer by clicking on it\n",
    "- Draw polygons on the triangular crystallites (shortcut: `P`)\n",
    "- `double left-click` to finish drawing a polygon and move to the next!"
   ]
  },
  {
   "cell_type": "markdown",
   "metadata": {},
   "source": [
    "### Conclusion\n",
    "\n",
    "In this notebook, we have seen how Napari's interface could be extended using the `Qt` framework to enable a highly customized annotation task. It is even possible to integrate interactive plots directly into the viewer's interface."
   ]
  }
 ],
 "metadata": {
  "kernelspec": {
   "display_name": "Python 3 (ipykernel)",
   "language": "python",
   "name": "python3"
  },
  "language_info": {
   "codemirror_mode": {
    "name": "ipython",
    "version": 3
   },
   "file_extension": ".py",
   "mimetype": "text/x-python",
   "name": "python",
   "nbconvert_exporter": "python",
   "pygments_lexer": "ipython3",
   "version": "3.9.15"
  }
 },
 "nbformat": 4,
 "nbformat_minor": 4
}
