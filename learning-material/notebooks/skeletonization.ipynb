{
 "cells": [
  {
   "attachments": {},
   "cell_type": "markdown",
   "metadata": {},
   "source": [
    "![drosophila](../images/drosofig.png)\n",
    "\n",
    "# Skeleton analysis of a drosophila trachea\n",
    "---\n",
    "\n",
    "In this notebook, we will study the elongated branching structure of a drosophila trachea in a 3D confocal image. We will introduce vesselness filters, skeletonization and show how the connected filaments structure can be represented as a graph of nodes and vertices using the [Skan](https://skeleton-analysis.org/stable/) package in Python.\n",
    "\n",
    "```{admonition} Acknowledgements\n",
    "We kindly acknowledge [Lemaitre lab](https://www.epfl.ch/labs/lemaitrelab/) in EPFL for providing the data for this notebook!\n",
    "```"
   ]
  },
  {
   "attachments": {},
   "cell_type": "markdown",
   "metadata": {},
   "source": [
    "### Setup\n",
    "\n",
    "Check that you have all the necessary packages installed, including `napari` and `Skan`. If not, you can use the `!` symbol to install them directly from the Jupyter notebook (otherwise, you can use your terminal)."
   ]
  },
  {
   "cell_type": "code",
   "execution_count": null,
   "metadata": {},
   "outputs": [],
   "source": [
    "import napari\n",
    "from skan import Skeleton, summarize"
   ]
  },
  {
   "attachments": {},
   "cell_type": "markdown",
   "metadata": {},
   "source": [
    "### Get the data\n",
    "\n",
    "The image we'll use in this tutorial is available for download on [Zenodo](https://zenodo.org/record/8099852) (`drosophila_trachea.tif`).\n",
    "\n",
    "In the cell below, we use a Python package called [pooch](https://pypi.org/project/pooch/) to automatically download the image from Zenodo into the **data** folder of this repository."
   ]
  },
  {
   "cell_type": "code",
   "execution_count": null,
   "metadata": {},
   "outputs": [],
   "source": [
    "import pooch\n",
    "from pathlib import Path\n",
    "\n",
    "data_path = Path('.').resolve().parent / 'data'\n",
    "fname = 'drosophila_trachea.tif'\n",
    "\n",
    "pooch.retrieve(\n",
    "    url=\"https://zenodo.org/record/8099852/files/drosophila_trachea.tif\",\n",
    "    known_hash=\"md5:d595ac271779936e255afd0508cca43f\",\n",
    "    path=data_path,\n",
    "    fname=fname,\n",
    "    progressbar=True,\n",
    ")\n",
    "\n",
    "print(f'Downloaded image {fname} into: {data_path}')"
   ]
  },
  {
   "attachments": {},
   "cell_type": "markdown",
   "metadata": {},
   "source": [
    "### Read the image\n",
    "\n",
    "We use the `imread` function from Scikit-image to read our TIF image."
   ]
  },
  {
   "cell_type": "code",
   "execution_count": null,
   "metadata": {},
   "outputs": [],
   "source": [
    "from skimage.io import imread\n",
    "\n",
    "image = imread(data_path / 'drosophila_trachea.tif')\n",
    "\n",
    "print(f'Loaded image in an array of shape: {image.shape} and data type {image.dtype}')\n",
    "print(f'Intensity range: [{image.min()} - {image.max()}]')"
   ]
  },
  {
   "cell_type": "markdown",
   "metadata": {},
   "source": [
    "If you run into troubles, don't hesitate to ask for help 🤚🏽."
   ]
  },
  {
   "attachments": {},
   "cell_type": "markdown",
   "metadata": {},
   "source": [
    "### Load the image into Napari\n",
    "\n",
    "Let's open a viewer and load our image to have a look at it."
   ]
  },
  {
   "cell_type": "code",
   "execution_count": null,
   "metadata": {},
   "outputs": [],
   "source": [
    "viewer = napari.Viewer(ndisplay=3)\n",
    "viewer.add_image(image, name=\"Original image\")"
   ]
  },
  {
   "attachments": {},
   "cell_type": "markdown",
   "metadata": {},
   "source": [
    "### Intensity normalization\n",
    "\n",
    "Let's rescale our image to the range 0-1. By doing so, it is also converted to an array of data type `float`."
   ]
  },
  {
   "cell_type": "code",
   "execution_count": null,
   "metadata": {},
   "outputs": [],
   "source": [
    "from skimage.exposure import rescale_intensity\n",
    "\n",
    "image_normed = rescale_intensity(image, out_range=(0, 1))\n",
    "\n",
    "print(f'Intensity range: [{image_normed.min()} - {image_normed.max()}]')\n",
    "print(f'Array type: {image_normed.dtype}')"
   ]
  },
  {
   "attachments": {},
   "cell_type": "markdown",
   "metadata": {},
   "source": [
    "### Vesselness filtering\n",
    "\n",
    "[Vesselness filters](https://scikit-image.org/docs/stable/auto_examples/edges/plot_ridge_filter.html#sphx-glr-auto-examples-edges-plot-ridge-filter-py) are designed to highlight elongated structures in an image. Here, we apply the *meijering* filter from Scikit-image to our normalized image."
   ]
  },
  {
   "cell_type": "code",
   "execution_count": null,
   "metadata": {},
   "outputs": [],
   "source": [
    "from skimage.filters import meijering\n",
    "\n",
    "image_mei = meijering(image_normed, sigmas=range(1, 3, 1), black_ridges=False)\n",
    "\n",
    "# Have a look at what the filtered image looks like in Napari:\n",
    "viewer.add_image(image_mei, name=\"Vesselness filter\", contrast_limits=(0, 1));"
   ]
  },
  {
   "attachments": {},
   "cell_type": "markdown",
   "metadata": {},
   "source": [
    "### Thresholding\n",
    "\n",
    "Next, we apply [Otsu's method](https://scikit-image.org/docs/dev/auto_examples/segmentation/plot_thresholding.html) to binarize the image."
   ]
  },
  {
   "cell_type": "code",
   "execution_count": null,
   "metadata": {},
   "outputs": [],
   "source": [
    "from skimage.filters import threshold_otsu\n",
    "import numpy as np\n",
    "\n",
    "labels_binary = (image_mei >= threshold_otsu(image_mei)).astype(np.uint8)\n",
    "\n",
    "# Have a look at the result\n",
    "viewer.add_labels(labels_binary, name=\"Otsu threshold\");"
   ]
  },
  {
   "attachments": {},
   "cell_type": "markdown",
   "metadata": {},
   "source": [
    "### Skeletonization\n",
    "\n",
    "Finally, we use Scikit-image to [skeletonize](https://scikit-image.org/docs/stable/auto_examples/edges/plot_skeleton.html) the image to extract a binary trace at the center of the filaments."
   ]
  },
  {
   "cell_type": "code",
   "execution_count": null,
   "metadata": {},
   "outputs": [],
   "source": [
    "from skimage.morphology import skeletonize_3d\n",
    "\n",
    "img_skeleton = skeletonize_3d(labels_binary)\n",
    "\n",
    "viewer.add_image(\n",
    "    img_skeleton, \n",
    "    name=\"Skeleton\", \n",
    "    contrast_limits=(0, 1), \n",
    "    colormap='green', \n",
    "    blending='additive'\n",
    ")"
   ]
  },
  {
   "attachments": {},
   "cell_type": "markdown",
   "metadata": {},
   "source": [
    "### Analysis of the skeleton\n",
    "\n",
    "Using [skan.Skeleton](https://skeleton-analysis.org/stable/), we extract a **graph representation of the skeleton** in the form of a [Pandas DataFrame](https://pandas.pydata.org/)."
   ]
  },
  {
   "cell_type": "code",
   "execution_count": null,
   "metadata": {},
   "outputs": [],
   "source": [
    "table = summarize(Skeleton(skeleton_image=img_skeleton))\n",
    "\n",
    "# Let's remove isolated branches (indexed as branch-type zero) from the table.\n",
    "table.drop(table[table['branch-type'] == 0].index, axis=0, inplace=True)\n",
    "\n",
    "table.head()"
   ]
  },
  {
   "attachments": {},
   "cell_type": "markdown",
   "metadata": {},
   "source": [
    "### Visualization in Napari\n",
    "\n",
    "There is a little bit of extra work involved to prepare a `vectors` array of shape (N, 2, 3) suitable for Napari. Each row encodes the origin and end points of a 3D vector."
   ]
  },
  {
   "cell_type": "code",
   "execution_count": null,
   "metadata": {},
   "outputs": [],
   "source": [
    "import pandas as pd\n",
    "\n",
    "# Prepare the vectors for Napari\n",
    "points_src = table[['image-coord-src-0', 'image-coord-src-1', 'image-coord-src-2']].values\n",
    "points_dst = table[['image-coord-dst-0', 'image-coord-dst-1', 'image-coord-dst-2']].values\n",
    "\n",
    "directions = points_dst - points_src\n",
    "\n",
    "vectors = np.concatenate((points_src[np.newaxis], directions[np.newaxis]), axis=0)\n",
    "vectors = np.swapaxes(vectors, 0, 1)\n",
    "\n",
    "vectors.shape"
   ]
  },
  {
   "attachments": {},
   "cell_type": "markdown",
   "metadata": {},
   "source": [
    "We can finally display our `vectors` in the viewer!"
   ]
  },
  {
   "cell_type": "code",
   "execution_count": null,
   "metadata": {},
   "outputs": [],
   "source": [
    "# Add a `Vectors` layer\n",
    "viewer.add_vectors(vectors, name=\"Branches\", edge_width=0.6, \n",
    "    features=pd.DataFrame({'branch-type': table['branch-type'].values.astype(float)}),\n",
    "    edge_color='branch-type',\n",
    "    vector_style='line',\n",
    ")"
   ]
  },
  {
   "cell_type": "markdown",
   "metadata": {},
   "source": [
    "### Conclusion\n",
    "\n",
    "In this notebook, we have prototyped a way of extracting the *skeleton* of an elongated, fibrous structure in a scientific image. We used Napari's `Image`, `Labels`, and `Vectors` layers to visualize the data resulting from processing the image."
   ]
  },
  {
   "cell_type": "markdown",
   "metadata": {},
   "source": []
  }
 ],
 "metadata": {
  "kernelspec": {
   "display_name": "Python 3 (ipykernel)",
   "language": "python",
   "name": "python3"
  },
  "language_info": {
   "codemirror_mode": {
    "name": "ipython",
    "version": 3
   },
   "file_extension": ".py",
   "mimetype": "text/x-python",
   "name": "python",
   "nbconvert_exporter": "python",
   "pygments_lexer": "ipython3",
   "version": "3.9.15"
  }
 },
 "nbformat": 4,
 "nbformat_minor": 4
}
