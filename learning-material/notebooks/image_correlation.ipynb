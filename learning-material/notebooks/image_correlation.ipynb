{
 "cells": [
  {
   "attachments": {},
   "cell_type": "markdown",
   "metadata": {},
   "source": [
    "![dic](../images/dic_fig.png)\n",
    "\n",
    "# Digital image correlation\n",
    "---\n",
    "\n",
    "In this notebook, we will use the [spam](https://ttk.gricad-pages.univ-grenoble-alpes.fr/spam/index.html) package in Python to automatically align a pair of images onto one another using digital image correlation (DIC).\n",
    "\n",
    "DIC is commonly used for image registration and for stabilizing a sequence of images by compensating camera movement, for tracking the movement and deformation of objects, and for image stitching of multiple fields of view, for example.\n",
    "\n",
    "```{info}\n",
    "To learn more about DIC and `spam`, have a look at these resources:\n",
    "\n",
    "- [Image correlation – Theory](https://ttk.gricad-pages.univ-grenoble-alpes.fr/spam/tutorials/tutorial-02a-DIC-theory.html)\n",
    "- [ Image correlation – Practice](https://ttk.gricad-pages.univ-grenoble-alpes.fr/spam/tutorials/tutorial-02b-DIC-practice.html)\n",
    "```"
   ]
  },
  {
   "attachments": {},
   "cell_type": "markdown",
   "metadata": {},
   "source": [
    "### Setup\n",
    "\n",
    "Check that you have all the necessary packages installed, including `napari` and `spam`. If not, you can use the `!` symbol to install them directly from the Jupyter notebook (otherwise, you can use your terminal).\n",
    "\n",
    "```{note}\n",
    "If you experience problems installing `spam` on Windows, raise your hand and ask for help!\n",
    "```"
   ]
  },
  {
   "cell_type": "code",
   "execution_count": null,
   "metadata": {},
   "outputs": [],
   "source": [
    "import napari\n",
    "import spam.DIC\n",
    "import spam.deformation"
   ]
  },
  {
   "attachments": {},
   "cell_type": "markdown",
   "metadata": {},
   "source": [
    "### Get the data\n",
    "\n",
    "The image we'll use in this tutorial is available for download on [Zenodo](https://zenodo.org/record/8099852) (`snow_3d.tif`). The data represents snow grains which were CT scanned at 15 μm/px. It comes from an experiment by Peinke et al. from CEN / CNRM / Météo-France - CNRS. The sample was scanned in the Laboratoire 3SR micro-tomograph.\n",
    "\n",
    "In the cell below, we use a Python package called [pooch](https://pypi.org/project/pooch/) to automatically download the image from Zenodo into the **data** folder of this repository."
   ]
  },
  {
   "cell_type": "code",
   "execution_count": null,
   "metadata": {},
   "outputs": [],
   "source": [
    "import pooch\n",
    "from pathlib import Path\n",
    "\n",
    "data_path = Path('.').resolve().parent / 'data'\n",
    "fname = 'snow_3d.tif'\n",
    "\n",
    "pooch.retrieve(\n",
    "    url=\"https://zenodo.org/record/8099852/files/snow_3d.tif\",\n",
    "    known_hash=\"md5:66c5130131f7707f5796c17916d70cc2\",\n",
    "    path=data_path,\n",
    "    fname=fname,\n",
    "    progressbar=True,\n",
    ")\n",
    "\n",
    "print(f'Downloaded image {fname} into: {data_path}')"
   ]
  },
  {
   "attachments": {},
   "cell_type": "markdown",
   "metadata": {},
   "source": [
    "### Read the image\n",
    "\n",
    "We use the `imread` function from Scikit-image to read our TIF image."
   ]
  },
  {
   "cell_type": "code",
   "execution_count": null,
   "metadata": {},
   "outputs": [],
   "source": [
    "from skimage.io import imread\n",
    "\n",
    "image = imread(data_path / 'snow_3d.tif')\n",
    "\n",
    "print(f'Loaded image in an array of shape: {image.shape} and data type {image.dtype}')\n",
    "print(f'Intensity range: [{image.min()} - {image.max()}]')"
   ]
  },
  {
   "cell_type": "markdown",
   "metadata": {},
   "source": [
    "If you run into troubles, don't hesitate to ask for help 🤚🏽."
   ]
  },
  {
   "cell_type": "markdown",
   "metadata": {},
   "source": [
    "### Load the image into Napari\n",
    "\n",
    "Let's open a viewer and load our image to have a look at it."
   ]
  },
  {
   "cell_type": "code",
   "execution_count": null,
   "metadata": {},
   "outputs": [],
   "source": [
    "viewer = napari.Viewer(title=\"Image registration\")\n",
    "viewer.add_image(image, colormap='magenta', name='Fixed image')"
   ]
  },
  {
   "attachments": {},
   "cell_type": "markdown",
   "metadata": {},
   "source": [
    "### Generate a misaligned image\n",
    "\n",
    "For the sake of this demonstration, we will rotate and translate the original image by an arbitrary amount to produce a misaligned image. We will then attempt to register this misaligned image back onto the orginal image. In this way, since we know the true transformation, we will be able to compare it to the transformation determined by the DIC algorithm.\n",
    "\n",
    "In reality, the fixed and moving images would be acquired independently - but the concept is the same!"
   ]
  },
  {
   "cell_type": "code",
   "execution_count": null,
   "metadata": {},
   "outputs": [],
   "source": [
    "# Choose a transformation to apply to the original image\n",
    "transformation = {\n",
    "    't': [0.0, 3.0, 2.5],  # Translation in Z, Y, X\n",
    "    'r': [3.0, 0.0, 0.0],  # Rotation (in degrees) around Z, Y, X\n",
    "}\n",
    "\n",
    "# The 4 x 4 matrix `Phi` represents the 3D transformation applied to the image.\n",
    "# Learn more: https://ttk.gricad-pages.univ-grenoble-alpes.fr/spam/tutorials/tutorial-02a-DIC-theory.html\n",
    "Phi_ground_truth = spam.deformation.computePhi(transformation)\n",
    "\n",
    "Phi_ground_truth"
   ]
  },
  {
   "attachments": {},
   "cell_type": "markdown",
   "metadata": {},
   "source": [
    "We generate our *moving image* by applying the transform:"
   ]
  },
  {
   "cell_type": "code",
   "execution_count": null,
   "metadata": {},
   "outputs": [],
   "source": [
    "# The moving image is rotated and translated with respect to the original image\n",
    "moving_image = spam.DIC.applyPhi(image, Phi=Phi_ground_truth)\n",
    "\n",
    "viewer.add_image(moving_image, colormap='blue', name=\"Moving image\")"
   ]
  },
  {
   "attachments": {},
   "cell_type": "markdown",
   "metadata": {},
   "source": [
    "### Registration by the optical flow method\n",
    "\n",
    "Now that we have a `moving_image`, we can try to align it onto the original image using DIC.\n",
    "\n",
    "We use the `register` function from `spam` to do that. The function returns a dictionary containing information about the registration (convergence, error...), including an estimate of the `Phi` deformation matrix that brings the moving image onto the original image."
   ]
  },
  {
   "cell_type": "code",
   "execution_count": null,
   "metadata": {},
   "outputs": [],
   "source": [
    "reg = spam.DIC.register(moving_image, image)\n",
    "\n",
    "Phi = reg.get('Phi')\n",
    "error = reg.get('deltaPhiNorm')\n",
    "\n",
    "transformation_estimate = spam.deformation.decomposePhi(Phi)\n",
    "\n",
    "print(f\"Translation (ZYX): {transformation_estimate['t']}\")\n",
    "print(f\"Rotation (deg) (ZYX): {transformation_estimate['r']}\")"
   ]
  },
  {
   "attachments": {},
   "cell_type": "markdown",
   "metadata": {},
   "source": [
    "This result is almost the exact opposite of the transform we applied to the original image, so it looks like the registration was successful!"
   ]
  },
  {
   "attachments": {},
   "cell_type": "markdown",
   "metadata": {},
   "source": [
    "### Apply the transform\n",
    "\n",
    "Let's apply our esimated transformation to the moving image to check that this transformation brings it back onto the original image."
   ]
  },
  {
   "cell_type": "code",
   "execution_count": null,
   "metadata": {},
   "outputs": [],
   "source": [
    "registered = spam.DIC.applyPhi(moving_image, Phi=Phi)\n",
    "\n",
    "# Trick: the `additive` blending mode applied to a layer with colormap `cyan` overlayed on a layer with\n",
    "# colormap `magenta` leads to a white color where the intensity in both layers is the same.\n",
    "viewer.add_image(registered, name=\"Registered\", colormap='cyan', blending='additive')\n",
    "\n",
    "# In Napari, you can display some text in the top-left part of the window, for example:\n",
    "viewer.text_overlay.visible = True\n",
    "viewer.text_overlay.text = f'deltaPhiNorm = {error:.2e}'"
   ]
  },
  {
   "attachments": {},
   "cell_type": "markdown",
   "metadata": {},
   "source": [
    "### Compute the error pixel-wise\n",
    "\n",
    "Finally, we can compute the pixel-wise squared difference between the registered and original image to visualize the error."
   ]
  },
  {
   "cell_type": "code",
   "execution_count": null,
   "metadata": {},
   "outputs": [],
   "source": [
    "import numpy as np\n",
    "\n",
    "difference = np.square(registered - image)\n",
    "\n",
    "viewer.add_image(difference, name=\"Squared difference\", colormap='twilight_shifted')"
   ]
  },
  {
   "attachments": {},
   "cell_type": "markdown",
   "metadata": {},
   "source": [
    "### Displacement vectors\n",
    "\n",
    "Finally, for the sake of visualization, we generate a grid of points onto our 3D image and show how they get displaced by the registration transform."
   ]
  },
  {
   "cell_type": "code",
   "execution_count": null,
   "metadata": {},
   "outputs": [],
   "source": [
    "node_spacing = (10, 10, 10)  # The pixel spacing between each vector in the grid, in Z/Y/X.\n",
    "\n",
    "node_positions = spam.DIC.makeGrid(image.shape, node_spacing)[0]\n",
    "\n",
    "# We apply our transform to each point in the grid to displace it.\n",
    "# Add a `1` to each node position to express it in homogeneous coordinates\n",
    "node_positions = np.hstack((node_positions, np.ones(len(node_positions))[None].T))\n",
    "\n",
    "# Displace the nodes (around the center of the image - not the corner)\n",
    "origin_point = np.array(image.shape) // 2\n",
    "origin_point = np.hstack((origin_point, [0.0])).astype(float)\n",
    "displaced_nodes = np.vectorize(lambda node: np.matmul(Phi, node - origin_point) + origin_point, signature='(n)->(n)')(node_positions)\n",
    "\n",
    "# Homogeneous -> Cartesian\n",
    "displaced_nodes = displaced_nodes[:, :-1]\n",
    "node_positions = node_positions[:, :-1]\n",
    "\n",
    "# Get the vectors in shape (N, 2, 3)\n",
    "displacements = displaced_nodes - node_positions\n",
    "displacement_vectors = np.concatenate((node_positions[np.newaxis], displacements[np.newaxis]))\n",
    "displacement_vectors = np.swapaxes(displacement_vectors, 0, 1)\n",
    "\n",
    "# Visualize the vectors\n",
    "viewer.add_vectors(displacement_vectors, name='Displacement', edge_width=0.7, opacity=1.0, ndim=3);"
   ]
  },
  {
   "cell_type": "markdown",
   "metadata": {},
   "source": [
    "### Conclusion\n",
    "\n",
    "In this notebook, we have had a first look at digital image correlation in Python using the `spam` package. We used Napari to visualize the results of the registration."
   ]
  },
  {
   "cell_type": "markdown",
   "metadata": {},
   "source": []
  }
 ],
 "metadata": {
  "kernelspec": {
   "display_name": "Python 3 (ipykernel)",
   "language": "python",
   "name": "python3"
  },
  "language_info": {
   "codemirror_mode": {
    "name": "ipython",
    "version": 3
   },
   "file_extension": ".py",
   "mimetype": "text/x-python",
   "name": "python",
   "nbconvert_exporter": "python",
   "pygments_lexer": "ipython3",
   "version": "3.9.16"
  }
 },
 "nbformat": 4,
 "nbformat_minor": 4
}
